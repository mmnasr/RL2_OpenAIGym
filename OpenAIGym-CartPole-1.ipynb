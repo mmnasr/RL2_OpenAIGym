{
 "cells": [
  {
   "cell_type": "code",
   "execution_count": 1,
   "metadata": {},
   "outputs": [],
   "source": [
    "import gym\n",
    "import numpy as np\n",
    "import matplotlib.pyplot as plt"
   ]
  },
  {
   "cell_type": "code",
   "execution_count": 2,
   "metadata": {},
   "outputs": [],
   "source": [
    "MAX_STEPS = 10000"
   ]
  },
  {
   "cell_type": "code",
   "execution_count": 3,
   "metadata": {},
   "outputs": [],
   "source": [
    "def get_action(state, weights):\n",
    "    \"\"\"\n",
    "    Return action: move cart to left or right depending on dot product of state vector and params.\n",
    "    \"\"\"\n",
    "    return 1 if state.dot(weights) > 0 else 0"
   ]
  },
  {
   "cell_type": "code",
   "execution_count": 4,
   "metadata": {},
   "outputs": [],
   "source": [
    "def play_one_episode(env, params):\n",
    "    \"\"\"\n",
    "    Play one episode and return the length of episode (a proxy for total reward)\n",
    "    \"\"\"\n",
    "    obs = env.reset()\n",
    "    done = False\n",
    "    t = 0\n",
    "    while not done and t < MAX_STEPS:\n",
    "        t += 1\n",
    "        action = get_action(obs, params)\n",
    "        obs, reward, done, info = env.step(action)\n",
    "        if done:\n",
    "            break\n",
    "    \n",
    "    return t        "
   ]
  },
  {
   "cell_type": "code",
   "execution_count": 8,
   "metadata": {},
   "outputs": [],
   "source": [
    "def play_multiple_eposides(env, params, N_episodes):\n",
    "    \"\"\"\n",
    "    Play multiple episodes using current environment and params.\n",
    "    Return average length for the number of played episodes.\n",
    "    \"\"\"\n",
    "\n",
    "    episode_length = np.empty(N_episodes)\n",
    "    for t in range(N_episodes):\n",
    "        episode_length[t] = play_one_episode(env, params)\n",
    "    \n",
    "    avg_length = episode_length.mean()\n",
    "    return avg_length"
   ]
  },
  {
   "cell_type": "code",
   "execution_count": 9,
   "metadata": {},
   "outputs": [],
   "source": [
    "def random_search(env):\n",
    "    \"\"\"\n",
    "    Search the parameter space (params), random numbers chosen between -1 and 1\n",
    "    for longest average length.\n",
    "    \"\"\"\n",
    "    episode_lengths = []\n",
    "    best_length = 0\n",
    "    params = None\n",
    "    for t in range(100):\n",
    "        new_params = np.random.random(4)*2 - 1\n",
    "        avg_length = play_multiple_eposides(env, new_params, N_episodes=100)\n",
    "        episode_lengths.append(avg_length)\n",
    "        \n",
    "        if avg_length > best_length:\n",
    "            best_length = avg_length\n",
    "            params = new_params\n",
    "    return episode_lengths, params     "
   ]
  },
  {
   "cell_type": "code",
   "execution_count": null,
   "metadata": {},
   "outputs": [],
   "source": []
  },
  {
   "cell_type": "code",
   "execution_count": 11,
   "metadata": {},
   "outputs": [
    {
     "data": {
      "image/png": "[encoded data removed]",
      "text/plain": [
       "<Figure size 432x288 with 1 Axes>"
      ]
     },
     "metadata": {
      "needs_background": "light"
     },
     "output_type": "display_data"
    }
   ],
   "source": [
    "env = gym.make('CartPole-v0')\n",
    "env._max_episode_steps = MAX_STEPS\n",
    "episode_lengths, params = random_search(env)\n",
    "plt.plot(episode_lengths)\n",
    "plt.show()"
   ]
  },
  {
   "cell_type": "code",
   "execution_count": 12,
   "metadata": {},
   "outputs": [
    {
     "data": {
      "text/plain": [
       "array([0.20042053, 0.19999294, 0.56737538, 0.57541169])"
      ]
     },
     "execution_count": 12,
     "metadata": {},
     "output_type": "execute_result"
    }
   ],
   "source": [
    "params"
   ]
  },
  {
   "cell_type": "code",
   "execution_count": 13,
   "metadata": {},
   "outputs": [
    {
     "data": {
      "text/plain": [
       "array([0.66335587, 0.57943291, 0.34200748, 0.41803327])"
      ]
     },
     "execution_count": 13,
     "metadata": {},
     "output_type": "execute_result"
    }
   ],
   "source": [
    "np.random.random(4)*2 - 1"
   ]
  },
  {
   "cell_type": "code",
   "execution_count": 15,
   "metadata": {},
   "outputs": [
    {
     "data": {
      "text/plain": [
       "2"
      ]
     },
     "execution_count": 15,
     "metadata": {},
     "output_type": "execute_result"
    }
   ],
   "source": [
    "env.action_space.n"
   ]
  },
  {
   "cell_type": "code",
   "execution_count": null,
   "metadata": {},
   "outputs": [],
   "source": []
  }
 ],
 "metadata": {
  "kernelspec": {
   "display_name": "Python 3",
   "language": "python",
   "name": "python3"
  },
  "language_info": {
   "codemirror_mode": {
    "name": "ipython",
    "version": 3
   },
   "file_extension": ".py",
   "mimetype": "text/x-python",
   "name": "python",
   "nbconvert_exporter": "python",
   "pygments_lexer": "ipython3",
   "version": "3.7.2"
  }
 },
 "nbformat": 4,
 "nbformat_minor": 2
}
