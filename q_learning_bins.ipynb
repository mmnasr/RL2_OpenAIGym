{
 "cells": [
  {
   "cell_type": "code",
   "execution_count": 1,
   "metadata": {},
   "outputs": [],
   "source": [
    "import gym\n",
    "import numpy as np\n",
    "import matplotlib.pyplot as plt"
   ]
  },
  {
   "cell_type": "code",
   "execution_count": 2,
   "metadata": {},
   "outputs": [],
   "source": [
    "MAX_ITERS = 10000"
   ]
  },
  {
   "cell_type": "code",
   "execution_count": 3,
   "metadata": {},
   "outputs": [],
   "source": [
    "def build_state(features):\n",
    "    \"\"\"\n",
    "    Convert a list of single digits, e.g. [1,2,3,4] to 1234\n",
    "    \"\"\"\n",
    "    return int(\"\".join(map(lambda feat: str(int(feat)),features)))"
   ]
  },
  {
   "cell_type": "code",
   "execution_count": 4,
   "metadata": {},
   "outputs": [],
   "source": [
    "class FeatureTransformer:\n",
    "    \"\"\"\n",
    "    Transforms the features from the states (observation) to a unique (integer)\n",
    "    feature value representing the state.\n",
    "    \"\"\"\n",
    "    def __init__(self):\n",
    "        self._cart_position_bins = np.linspace(-2.4,2.4,9)\n",
    "        self._cart_velocity_bins = np.linspace(-2.0,2.0,9)\n",
    "        self._pole_angle_bins = np.linspace(-0.4,0.4,9)\n",
    "        self._pole_velocity_bins = np.linspace(-3.5,3.5,9)\n",
    "\n",
    "    def transform(self, observation):\n",
    "        \"\"\"\n",
    "        Uses the current observation of the state given by \n",
    "        (cart_pos, cart_vel, pol_pos, pol_vel), find the bin index \n",
    "        for each feature and return a unique integer value.\n",
    "        \"\"\"\n",
    "        def _which_bin(value, bins):\n",
    "            \"\"\"\n",
    "            Rerturns the bin index containing the value\n",
    "            \"\"\"\n",
    "            return np.digitize(x=[value], bins=bins)[0]\n",
    "            \n",
    "        cart_pos, cart_vel, pol_pos, pol_vel = observation\n",
    "        return build_state([\n",
    "            _which_bin(cart_pos, self._cart_position_bins),\n",
    "            _which_bin(cart_vel, self._cart_velocity_bins),\n",
    "            _which_bin(pol_pos, self._pole_angle_bins),\n",
    "            _which_bin(pol_vel, self._pole_velocity_bins)\n",
    "        ])"
   ]
  },
  {
   "cell_type": "code",
   "execution_count": 5,
   "metadata": {},
   "outputs": [],
   "source": [
    "class Model:\n",
    "    def __init__(self, env=None, feature_transformer=None):\n",
    "        \n",
    "        if not env:\n",
    "            raise ValueError(\"env cannot be None. Provide an environment class from gym.\")\n",
    "        self._env = env\n",
    "        if not feature_transformer:\n",
    "            raise ValueError(\"feature_transformer cannot be None.\")\n",
    "        self._feature_transformer = feature_transformer\n",
    "        self._num_states = self._get_states_count()\n",
    "        self._num_actions = self._get_actions_count()\n",
    "        self._Q = self._initialize_Q()\n",
    "        # used to update Q\n",
    "        self._alpha = 10e-3\n",
    "\n",
    "    def predict(self, state):\n",
    "        x = self._feature_transformer.transform(state)\n",
    "        return self._Q[x]\n",
    "    \n",
    "    def update(self, state, action, G):\n",
    "        x = self._feature_transformer.transform(state)\n",
    "        # update Q using gradient descent\n",
    "        self._Q[x,action] += self._alpha*(G - self._Q[x,action])\n",
    "        \n",
    "    def sample_action(self, state, eps):\n",
    "        \"\"\"\n",
    "        Choose an action given current state using epsilon-greedy algorithm\n",
    "        \"\"\"\n",
    "        # choose a random action from the environment\n",
    "        if np.random.random() < eps: \n",
    "            return self._env.action_space.sample()\n",
    "        else:\n",
    "            # return Q's for the given state (for different actions)\n",
    "            # return the argmax of Q\n",
    "            p = self.predict(state)\n",
    "            return np.argmax(p)\n",
    "        \n",
    "    def _get_states_count(self):\n",
    "        return 10**self._env.observation_space.shape[0]\n",
    "    \n",
    "    def _get_actions_count(self):\n",
    "        return self._env.action_space.n\n",
    "    \n",
    "    def _initialize_Q(self, low=-1, high=1):\n",
    "        return np.random.uniform(low=low, high=high, size=(self._num_states, self._num_actions))"
   ]
  },
  {
   "cell_type": "code",
   "execution_count": 10,
   "metadata": {},
   "outputs": [],
   "source": [
    "def play_one_game(model, eps, gamma):\n",
    "    def _has_lost(done, iters):\n",
    "        return True if done and iters < 199 else False\n",
    "\n",
    "    obs = model._env.reset()\n",
    "    done = False\n",
    "    iters = 0\n",
    "    # this is for plotting only.\n",
    "    total_reward = 0\n",
    "    while not done and iters < MAX_ITERS:\n",
    "        action = model.sample_action(obs, eps)\n",
    "        prev_obs = obs\n",
    "        obs, reward, done, info = model._env.step(action)\n",
    "        total_reward += reward\n",
    "        if _has_lost(done, iters):\n",
    "            reward = -300\n",
    "        G = reward + gamma*np.max(model.predict(obs))\n",
    "        model.update(prev_obs, action, G)\n",
    "        \n",
    "        iters += 1\n",
    "\n",
    "    return total_reward"
   ]
  },
  {
   "cell_type": "code",
   "execution_count": 11,
   "metadata": {},
   "outputs": [],
   "source": [
    "def plot_running_avg(total_rewards):\n",
    "    N = len(total_rewards)\n",
    "    running_avg = np.empty(N)\n",
    "    for t in range(N):\n",
    "        running_avg[t] = total_rewards[max(0, t-100):(t+1)].mean()\n",
    "    plt.plot(running_avg)\n",
    "    plt.title(\"Running Average\")\n",
    "    plt.show()"
   ]
  },
  {
   "cell_type": "code",
   "execution_count": 12,
   "metadata": {},
   "outputs": [],
   "source": [
    "env = gym.make('CartPole-v0')\n",
    "featTr = FeatureTransformer()\n",
    "model = Model(env=env, feature_transformer=featTr)"
   ]
  },
  {
   "cell_type": "code",
   "execution_count": 13,
   "metadata": {},
   "outputs": [
    {
     "name": "stdout",
     "output_type": "stream",
     "text": [
      "episode:1 epsilon:1.0 total_reward:43.0\n",
      "episode:101 epsilon:0.09950371902099892 total_reward:10.0\n",
      "episode:201 epsilon:0.07053456158585983 total_reward:126.0\n",
      "episode:301 epsilon:0.0576390417704235 total_reward:105.0\n",
      "episode:401 epsilon:0.04993761694389223 total_reward:39.0\n",
      "episode:501 epsilon:0.04467670516087703 total_reward:33.0\n",
      "episode:601 epsilon:0.04079085082240021 total_reward:25.0\n",
      "episode:701 epsilon:0.0377694787300249 total_reward:44.0\n",
      "episode:801 epsilon:0.03533326266687867 total_reward:156.0\n",
      "episode:901 epsilon:0.03331483023263848 total_reward:134.0\n"
     ]
    }
   ],
   "source": [
    "N = 1000\n",
    "total_rewards = np.empty(N)\n",
    "for i in range(N):\n",
    "    eps = 1.0/np.sqrt(i+1)\n",
    "    tot_reward = play_one_game(model=model, eps=eps, gamma=0.9)\n",
    "    total_rewards[i] = tot_reward\n",
    "    if i % 100 == 0:\n",
    "        print(\"episode:{} epsilon:{} total_reward:{}\".format(i+1, eps, tot_reward))"
   ]
  },
  {
   "cell_type": "code",
   "execution_count": 14,
   "metadata": {},
   "outputs": [
    {
     "data": {
      "text/plain": [
       "[<matplotlib.lines.Line2D at 0x109539780>]"
      ]
     },
     "execution_count": 14,
     "metadata": {},
     "output_type": "execute_result"
    },
    {
     "data": {
      "image/png": "[encoded data removed]",
      "text/plain": [
       "<Figure size 432x288 with 1 Axes>"
      ]
     },
     "metadata": {},
     "output_type": "display_data"
    }
   ],
   "source": [
    "plt.plot(total_rewards)"
   ]
  },
  {
   "cell_type": "code",
   "execution_count": 15,
   "metadata": {},
   "outputs": [
    {
     "data": {
      "image/png": "[encoded data removed]",
      "text/plain": [
       "<Figure size 432x288 with 1 Axes>"
      ]
     },
     "metadata": {},
     "output_type": "display_data"
    }
   ],
   "source": [
    "plot_running_avg(total_rewards)"
   ]
  },
  {
   "cell_type": "code",
   "execution_count": 30,
   "metadata": {},
   "outputs": [
    {
     "data": {
      "text/plain": [
       "(10000, 2)"
      ]
     },
     "execution_count": 30,
     "metadata": {},
     "output_type": "execute_result"
    }
   ],
   "source": [
    "model._Q.shape"
   ]
  },
  {
   "cell_type": "code",
   "execution_count": 34,
   "metadata": {},
   "outputs": [
    {
     "data": {
      "text/plain": [
       "0.6591158252760481"
      ]
     },
     "execution_count": 34,
     "metadata": {},
     "output_type": "execute_result"
    }
   ],
   "source": [
    "model._Q[0,1]"
   ]
  },
  {
   "cell_type": "code",
   "execution_count": 16,
   "metadata": {},
   "outputs": [
    {
     "data": {
      "text/plain": [
       "array([-0.01364755,  0.00694765, -0.01847204, -0.01230216])"
      ]
     },
     "execution_count": 16,
     "metadata": {},
     "output_type": "execute_result"
    }
   ],
   "source": [
    "model._env.reset()"
   ]
  },
  {
   "cell_type": "code",
   "execution_count": null,
   "metadata": {},
   "outputs": [],
   "source": []
  }
 ],
 "metadata": {
  "kernelspec": {
   "display_name": "Python 3",
   "language": "python",
   "name": "python3"
  },
  "language_info": {
   "codemirror_mode": {
    "name": "ipython",
    "version": 3
   },
   "file_extension": ".py",
   "mimetype": "text/x-python",
   "name": "python",
   "nbconvert_exporter": "python",
   "pygments_lexer": "ipython3",
   "version": "3.6.4"
  }
 },
 "nbformat": 4,
 "nbformat_minor": 2
}
